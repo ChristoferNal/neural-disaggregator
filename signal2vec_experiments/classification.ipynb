{
 "cells": [
  {
   "cell_type": "code",
   "execution_count": 43,
   "metadata": {},
   "outputs": [
    {
     "name": "stdout",
     "output_type": "stream",
     "text": [
      "Shape of array: (388800, 300)\n",
      "Shape of array in windows: (19440, 20, 300)\n",
      "Shape of array after summing windows: (19440, 300)\n",
      "Fridge freezer12.csv\n",
      "(19440, 300)\n",
      "Shape of array: (388800, 300)\n",
      "Shape of array in windows: (19440, 20, 300)\n",
      "Shape of array after summing windows: (19440, 300)\n",
      "Oven42.csv\n",
      "(38880, 300)\n",
      "Shape of array: (388800, 300)\n",
      "Shape of array in windows: (19440, 20, 300)\n",
      "Shape of array after summing windows: (19440, 300)\n",
      "Microwave13.csv\n",
      "(58320, 300)\n",
      "Shape of array: (388800, 300)\n",
      "Shape of array in windows: (19440, 20, 300)\n",
      "Shape of array after summing windows: (19440, 300)\n",
      "Dish washer6.csv\n",
      "(77760, 300)\n",
      "(77760, 300)\n",
      "77760\n"
     ]
    }
   ],
   "source": [
    "import pandas as pd\n",
    "import os \n",
    "import numpy as np\n",
    "from nilmtk import DataSet\n",
    "\n",
    "year = '2014'\n",
    "month = '2'\n",
    "filename = 'mains.csv'\n",
    "\n",
    "UK_DALE = '../../Datasets/UKDALE/ukdale.h5'\n",
    "END = \"{}-28-{}\".format(month, year)\n",
    "START = \"{}-1-{}\".format(month, year)\n",
    "train_building = 1\n",
    "filenames = ['Fridge freezer12.csv', 'Oven42.csv', 'Microwave13.csv', 'Dish washer6.csv']\n",
    "\n",
    "vectorized_appliances = None\n",
    "labels_of_vectorized_appliances = list()\n",
    "l = 0\n",
    "window = 20\n",
    "\n",
    "for filename in filenames:\n",
    "    FOLDER_PATH = '/media/christoforos/DATA/signal2vec/vectorized_sequences/{}/{}'.format(year, month)\n",
    "    df_vectorized = pd.read_csv(FOLDER_PATH + '/' + filename)\n",
    "    array = df_vectorized.values\n",
    "    print('Shape of array: {}'.format(array.shape))\n",
    "    array = np.reshape(array, (len(array)/window, window, 300))\n",
    "    sum_of_vectors = np.sum(array, axis=1)\n",
    "    print('Shape of array in windows: {}'.format(array.shape))\n",
    "    print('Shape of array after summing windows: {}'.format(sum_of_vectors.shape))\n",
    "\n",
    "    if vectorized_appliances is None:\n",
    "        vectorized_appliances = sum_of_vectors\n",
    "    else:\n",
    "        vectorized_appliances = np.concatenate((vectorized_appliances, sum_of_vectors))\n",
    "    labels_of_vectorized_appliances.extend([l for i in range(len(sum_of_vectors))]) \n",
    "    l += 1\n",
    "    print(filename)\n",
    "    print(vectorized_appliances.shape)\n",
    "\n",
    "print(vectorized_appliances.shape)\n",
    "print(len(labels_of_vectorized_appliances))"
   ]
  },
  {
   "cell_type": "code",
   "execution_count": 44,
   "metadata": {},
   "outputs": [
    {
     "name": "stdout",
     "output_type": "stream",
     "text": [
      "Shape of array: (432000, 300)\n",
      "Shape of array in windows: (2160, 200, 300)\n",
      "Shape of array after summing windows: (2160, 300)\n",
      "Fridge freezer12.csv\n",
      "(2160, 300)\n",
      "Shape of array: (432000, 300)\n",
      "Shape of array in windows: (2160, 200, 300)\n",
      "Shape of array after summing windows: (2160, 300)\n",
      "Oven42.csv\n",
      "(4320, 300)\n",
      "Shape of array: (432000, 300)\n",
      "Shape of array in windows: (2160, 200, 300)\n",
      "Shape of array after summing windows: (2160, 300)\n",
      "Microwave13.csv\n",
      "(6480, 300)\n",
      "Shape of array: (432000, 300)\n",
      "Shape of array in windows: (2160, 200, 300)\n",
      "Shape of array after summing windows: (2160, 300)\n",
      "Dish washer6.csv\n",
      "(8640, 300)\n",
      "(8640, 300)\n"
     ]
    }
   ],
   "source": [
    "import pandas as pd\n",
    "import os \n",
    "import numpy as np\n",
    "from nilmtk import DataSet\n",
    "\n",
    "year = '2014'\n",
    "month = '1'\n",
    "filename = 'mains.csv'\n",
    "\n",
    "UK_DALE = '../../Datasets/UKDALE/ukdale.h5'\n",
    "END = \"{}-30-{}\".format(month, year)\n",
    "START = \"{}-1-{}\".format(month, year)\n",
    "train_building = 1\n",
    "filenames = ['Fridge freezer12.csv', 'Oven42.csv', 'Microwave13.csv', 'Dish washer6.csv']\n",
    "\n",
    "vectorized_appliances_test = None\n",
    "labels_of_vectorized_appliances_test = list()\n",
    "window=200\n",
    "\n",
    "l = 0\n",
    "for filename in filenames:\n",
    "    FOLDER_PATH = '/media/christoforos/DATA/signal2vec/vectorized_sequences/{}/{}'.format(year, month)\n",
    "    df_vectorized = pd.read_csv(FOLDER_PATH + '/' + filename)\n",
    "    array = df_vectorized.values\n",
    "    print('Shape of array: {}'.format(array.shape))\n",
    "    array = np.reshape(array, (len(array)/window, window, 300))\n",
    "    sum_of_vectors = np.sum(array, axis=1)\n",
    "    print('Shape of array in windows: {}'.format(array.shape))\n",
    "    print('Shape of array after summing windows: {}'.format(sum_of_vectors.shape))\n",
    "\n",
    "    if vectorized_appliances_test is None:\n",
    "        vectorized_appliances_test = sum_of_vectors\n",
    "    else:\n",
    "        vectorized_appliances_test = np.concatenate((vectorized_appliances_test, sum_of_vectors))\n",
    "    labels_of_vectorized_appliances_test.extend([l for i in range(len(sum_of_vectors))]) \n",
    "    l += 1\n",
    "    print(filename)\n",
    "    print(vectorized_appliances_test.shape)\n",
    "\n",
    "print(vectorized_appliances_test.shape)\n"
   ]
  },
  {
   "cell_type": "code",
   "execution_count": 46,
   "metadata": {},
   "outputs": [
    {
     "name": "stdout",
     "output_type": "stream",
     "text": [
      "77760\n",
      "F1 score: [ 0.72775176  0.45771883  0.07829181  0.02464628]\n",
      "F1 micro: 0.406828703704\n",
      "F1 macro: 0.322102171129\n"
     ]
    }
   ],
   "source": [
    "from sklearn.metrics import f1_score\n",
    "from sklearn.neighbors import KNeighborsClassifier\n",
    "from sklearn.linear_model import LogisticRegression\n",
    "from sklearn import svm\n",
    "from sklearn.tree import DecisionTreeClassifier\n",
    "from sklearn.ensemble import (RandomForestClassifier, ExtraTreesClassifier,\n",
    "                              AdaBoostClassifier)\n",
    "from sklearn.utils import shuffle\n",
    "\n",
    "print(len(vectorized_appliances))\n",
    "# clf = KNeighborsClassifier(n_neighbors=4)\n",
    "# clf = LogisticRegression(C=10)\n",
    "# clf = svm.SVC()\n",
    "clf = RandomForestClassifier(n_estimators=200, min_samples_split=2, n_jobs=-1)\n",
    "\n",
    "vectorized_appliances, labels_of_vectorized_appliances = shuffle(vectorized_appliances, labels_of_vectorized_appliances, random_state=13)\n",
    "clf.fit(vectorized_appliances, labels_of_vectorized_appliances)\n",
    "\n",
    "pred = clf.predict(vectorized_appliances_test)\n",
    "f1 = f1_score(labels_of_vectorized_appliances_test, pred, average=None)\n",
    "print('F1 score: {}'.format(f1))\n",
    "f1 = f1_score(labels_of_vectorized_appliances_test, pred, average='micro')\n",
    "print('F1 micro: {}'.format(f1))\n",
    "f1 = f1_score(labels_of_vectorized_appliances_test, pred, average='macro')\n",
    "print('F1 macro: {}'.format(f1))"
   ]
  },
  {
   "cell_type": "code",
   "execution_count": 42,
   "metadata": {},
   "outputs": [
    {
     "name": "stdout",
     "output_type": "stream",
     "text": [
      "                 0\n",
      "count  8640.000000\n",
      "mean      1.687500\n",
      "std       0.726226\n",
      "min       0.000000\n",
      "25%       2.000000\n",
      "50%       2.000000\n",
      "75%       2.000000\n",
      "max       2.000000\n"
     ]
    }
   ],
   "source": [
    "# print(labels_of_vectorized_appliances)\n",
    "# print(labels_of_vectorized_appliances_test)\n",
    "print(pd.DataFrame(pred).describe())"
   ]
  }
 ],
 "metadata": {
  "kernelspec": {
   "display_name": "Python 2",
   "language": "python",
   "name": "python2"
  },
  "language_info": {
   "codemirror_mode": {
    "name": "ipython",
    "version": 2
   },
   "file_extension": ".py",
   "mimetype": "text/x-python",
   "name": "python",
   "nbconvert_exporter": "python",
   "pygments_lexer": "ipython2",
   "version": "2.7.14"
  }
 },
 "nbformat": 4,
 "nbformat_minor": 2
}
